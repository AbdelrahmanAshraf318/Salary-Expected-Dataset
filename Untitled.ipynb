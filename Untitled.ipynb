{
 "cells": [
  {
   "cell_type": "code",
   "execution_count": 1,
   "id": "12b610a7",
   "metadata": {},
   "outputs": [],
   "source": [
    "import pandas as pd\n",
    "import numpy as np\n",
    "import math, copy"
   ]
  },
  {
   "cell_type": "code",
   "execution_count": 2,
   "id": "2ac1fb8f",
   "metadata": {},
   "outputs": [],
   "source": [
    "dataset = pd.read_csv('data/Salary_dataset.csv')"
   ]
  },
  {
   "cell_type": "code",
   "execution_count": 3,
   "id": "115ff2b3",
   "metadata": {},
   "outputs": [
    {
     "data": {
      "text/html": [
       "<div>\n",
       "<style scoped>\n",
       "    .dataframe tbody tr th:only-of-type {\n",
       "        vertical-align: middle;\n",
       "    }\n",
       "\n",
       "    .dataframe tbody tr th {\n",
       "        vertical-align: top;\n",
       "    }\n",
       "\n",
       "    .dataframe thead th {\n",
       "        text-align: right;\n",
       "    }\n",
       "</style>\n",
       "<table border=\"1\" class=\"dataframe\">\n",
       "  <thead>\n",
       "    <tr style=\"text-align: right;\">\n",
       "      <th></th>\n",
       "      <th>Unnamed: 0</th>\n",
       "      <th>YearsExperience</th>\n",
       "      <th>Salary</th>\n",
       "    </tr>\n",
       "  </thead>\n",
       "  <tbody>\n",
       "    <tr>\n",
       "      <th>22</th>\n",
       "      <td>22</td>\n",
       "      <td>8.0</td>\n",
       "      <td>101303.0</td>\n",
       "    </tr>\n",
       "  </tbody>\n",
       "</table>\n",
       "</div>"
      ],
      "text/plain": [
       "    Unnamed: 0  YearsExperience    Salary\n",
       "22          22              8.0  101303.0"
      ]
     },
     "execution_count": 3,
     "metadata": {},
     "output_type": "execute_result"
    }
   ],
   "source": [
    "dataset.sample()"
   ]
  },
  {
   "cell_type": "code",
   "execution_count": 4,
   "id": "60308c80",
   "metadata": {},
   "outputs": [
    {
     "data": {
      "text/plain": [
       "pandas.core.frame.DataFrame"
      ]
     },
     "execution_count": 4,
     "metadata": {},
     "output_type": "execute_result"
    }
   ],
   "source": [
    "type(dataset)"
   ]
  },
  {
   "cell_type": "code",
   "execution_count": 5,
   "id": "7af7c6ee",
   "metadata": {},
   "outputs": [
    {
     "data": {
      "text/plain": [
       "(30, 3)"
      ]
     },
     "execution_count": 5,
     "metadata": {},
     "output_type": "execute_result"
    }
   ],
   "source": [
    "dataset.shape"
   ]
  },
  {
   "cell_type": "code",
   "execution_count": 6,
   "id": "253789f9",
   "metadata": {},
   "outputs": [
    {
     "data": {
      "text/plain": [
       "Unnamed: 0         0\n",
       "YearsExperience    0\n",
       "Salary             0\n",
       "dtype: int64"
      ]
     },
     "execution_count": 6,
     "metadata": {},
     "output_type": "execute_result"
    }
   ],
   "source": [
    "dataset.isnull().sum()"
   ]
  },
  {
   "cell_type": "code",
   "execution_count": 7,
   "id": "99466e1b",
   "metadata": {},
   "outputs": [],
   "source": [
    "def compute_cost(x, y, w, b):\n",
    "    m = len(x)\n",
    "    total_cost = 0\n",
    "    for i in range(m):\n",
    "        f_x = w * x[i] + b \n",
    "        err = (f_x - y[i]) ** 2\n",
    "        total_cost += err\n",
    "        \n",
    "    return total_cost / (2 * m)"
   ]
  },
  {
   "cell_type": "code",
   "execution_count": 8,
   "id": "eded1826",
   "metadata": {},
   "outputs": [],
   "source": [
    "def compute_gradient(x, y, w, b):\n",
    "    m = len(x)\n",
    "    dj_dw = 0\n",
    "    dj_db = 0\n",
    "    \n",
    "    for i in range(m):  \n",
    "        f_wb = w * x[i] + b \n",
    "        #print(\"f_wb: \", f_wb)\n",
    "        dj_dw_i = (f_wb - y[i]) * x[i] \n",
    "        #print(\"dj_dw_i: \", dj_dw_i)\n",
    "        dj_db_i = f_wb - y[i]\n",
    "        #print(\"dj_db_i: \", dj_db_i)\n",
    "        dj_db += dj_db_i\n",
    "        #print(\"dj_db: \", dj_db)\n",
    "        dj_dw += dj_dw_i\n",
    "        #print(\"dj_dw: \", dj_dw)\n",
    "    dj_dw = dj_dw / m \n",
    "    dj_db = dj_db / m \n",
    "        \n",
    "    return list(dj_dw), list(dj_db)"
   ]
  },
  {
   "cell_type": "code",
   "execution_count": 14,
   "id": "43d30c79",
   "metadata": {},
   "outputs": [],
   "source": [
    "def gradient_descent(x, y, w_in, b_in, alpha, num_iters, cost_function, gradient_function):\n",
    "    J_history = []\n",
    "    p_history = []\n",
    "    b = b_in\n",
    "    w = w_in\n",
    "    \n",
    "    for i in range(num_iters):\n",
    "        # Calculate the gradient and update the parameters using gradient_function\n",
    "        dj_dw, dj_db = gradient_function(x, y, w , b)     \n",
    "\n",
    "        # Update Parameters using equation (3) above\n",
    "        b = b - alpha * dj_db[0]                            \n",
    "        w = w - alpha * dj_dw[0]  \n",
    "        \n",
    " \n",
    "    return w, b"
   ]
  },
  {
   "cell_type": "code",
   "execution_count": 15,
   "id": "94215035",
   "metadata": {},
   "outputs": [
    {
     "data": {
      "text/plain": [
       "Index(['Unnamed: 0', 'YearsExperience', 'Salary'], dtype='object')"
      ]
     },
     "execution_count": 15,
     "metadata": {},
     "output_type": "execute_result"
    }
   ],
   "source": [
    "dataset.columns"
   ]
  },
  {
   "cell_type": "code",
   "execution_count": 16,
   "id": "8661cf7c",
   "metadata": {},
   "outputs": [],
   "source": [
    "X, y = dataset[['YearsExperience']].values,  dataset[['Salary']].values"
   ]
  },
  {
   "cell_type": "code",
   "execution_count": 17,
   "id": "d739e218",
   "metadata": {},
   "outputs": [],
   "source": [
    "from sklearn.model_selection import train_test_split\n",
    "X_train, X_test, y_train, y_test = train_test_split(X,y , random_state=104,test_size=0.25, shuffle=True)"
   ]
  },
  {
   "cell_type": "code",
   "execution_count": 18,
   "id": "29d49394",
   "metadata": {},
   "outputs": [
    {
     "name": "stdout",
     "output_type": "stream",
     "text": [
      "(w,b) found by gradient descent: (9354.3139,25370.6674)\n"
     ]
    }
   ],
   "source": [
    "# initialize parameters\n",
    "w_init = 0\n",
    "b_init = 0\n",
    "# some gradient descent settings\n",
    "iterations = 10000\n",
    "tmp_alpha = 1.0e-2\n",
    "# run gradient descent\n",
    "w_final, b_final = gradient_descent(X_train ,y_train, w_init, b_init, tmp_alpha, \n",
    "                                                    iterations, compute_cost, compute_gradient)\n",
    "print(f\"(w,b) found by gradient descent: ({w_final:8.4f},{b_final:8.4f})\")"
   ]
  },
  {
   "cell_type": "code",
   "execution_count": 25,
   "id": "191eb5bf",
   "metadata": {},
   "outputs": [],
   "source": [
    "def predict(x, w, b):\n",
    "    return (w * x) + b"
   ]
  },
  {
   "cell_type": "code",
   "execution_count": 26,
   "id": "3c088e9a",
   "metadata": {},
   "outputs": [],
   "source": [
    "y_pred = predict(X_test, w_final, b_final)"
   ]
  },
  {
   "cell_type": "code",
   "execution_count": 27,
   "id": "57a80a47",
   "metadata": {},
   "outputs": [
    {
     "data": {
      "text/plain": [
       "array([[116107.51248253],\n",
       "       [ 81496.55097526],\n",
       "       [100205.17881703],\n",
       "       [ 82431.98236735],\n",
       "       [ 63723.35452557],\n",
       "       [ 60917.06034931],\n",
       "       [ 92721.72768032],\n",
       "       [ 72142.23705437]])"
      ]
     },
     "execution_count": 27,
     "metadata": {},
     "output_type": "execute_result"
    }
   ],
   "source": [
    "y_pred"
   ]
  },
  {
   "cell_type": "code",
   "execution_count": 28,
   "id": "ad64fa30",
   "metadata": {},
   "outputs": [
    {
     "data": {
      "text/plain": [
       "array([[112636.],\n",
       "       [ 81364.],\n",
       "       [101303.],\n",
       "       [ 93941.],\n",
       "       [ 56958.],\n",
       "       [ 57190.],\n",
       "       [ 98274.],\n",
       "       [ 67939.]])"
      ]
     },
     "execution_count": 28,
     "metadata": {},
     "output_type": "execute_result"
    }
   ],
   "source": [
    "y_test"
   ]
  },
  {
   "cell_type": "code",
   "execution_count": 29,
   "id": "b592d504",
   "metadata": {},
   "outputs": [],
   "source": [
    "from sklearn.linear_model import LinearRegression\n",
    "reg = LinearRegression()"
   ]
  },
  {
   "cell_type": "code",
   "execution_count": 30,
   "id": "3c6fe92d",
   "metadata": {},
   "outputs": [],
   "source": [
    "reg = reg.fit(X_train, y_train)"
   ]
  },
  {
   "cell_type": "code",
   "execution_count": 33,
   "id": "1db024e6",
   "metadata": {},
   "outputs": [
    {
     "data": {
      "text/plain": [
       "array([[9354.31392084]])"
      ]
     },
     "execution_count": 33,
     "metadata": {},
     "output_type": "execute_result"
    }
   ],
   "source": [
    "reg.coef_"
   ]
  },
  {
   "cell_type": "code",
   "execution_count": 34,
   "id": "f4def006",
   "metadata": {},
   "outputs": [
    {
     "data": {
      "text/plain": [
       "0.9618943902999022"
      ]
     },
     "execution_count": 34,
     "metadata": {},
     "output_type": "execute_result"
    }
   ],
   "source": [
    "reg.score(X_train, y_train)"
   ]
  },
  {
   "cell_type": "code",
   "execution_count": 36,
   "id": "b78d64e7",
   "metadata": {},
   "outputs": [
    {
     "data": {
      "text/plain": [
       "array([[116107.51248241],\n",
       "       [ 81496.55097529],\n",
       "       [100205.17881698],\n",
       "       [ 82431.98236738],\n",
       "       [ 63723.35452569],\n",
       "       [ 60917.06034944],\n",
       "       [ 92721.7276803 ],\n",
       "       [ 72142.23705445]])"
      ]
     },
     "execution_count": 36,
     "metadata": {},
     "output_type": "execute_result"
    }
   ],
   "source": [
    "reg.predict(X_test)"
   ]
  },
  {
   "cell_type": "markdown",
   "id": "e304260a",
   "metadata": {},
   "source": [
    "# It seems that the results of the two models (From SCRATCH model and Scikit Learn Model) are same "
   ]
  },
  {
   "cell_type": "code",
   "execution_count": null,
   "id": "858f6478",
   "metadata": {},
   "outputs": [],
   "source": []
  }
 ],
 "metadata": {
  "kernelspec": {
   "display_name": "Python 3 (ipykernel)",
   "language": "python",
   "name": "python3"
  },
  "language_info": {
   "codemirror_mode": {
    "name": "ipython",
    "version": 3
   },
   "file_extension": ".py",
   "mimetype": "text/x-python",
   "name": "python",
   "nbconvert_exporter": "python",
   "pygments_lexer": "ipython3",
   "version": "3.9.13"
  }
 },
 "nbformat": 4,
 "nbformat_minor": 5
}
